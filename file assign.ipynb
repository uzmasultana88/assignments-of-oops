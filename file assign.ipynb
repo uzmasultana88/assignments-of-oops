{
 "cells": [
  {
   "cell_type": "markdown",
   "id": "091578e0-8a29-46e3-9a84-af180e846b15",
   "metadata": {},
   "source": [
    "Q1. Which function is used to open a file? What are the different modes of opening a file? Explain each mode\n",
    "of file opening."
   ]
  },
  {
   "cell_type": "code",
   "execution_count": 3,
   "id": "6ab91ac0-555c-4628-a2a9-bfe46db1a35c",
   "metadata": {},
   "outputs": [],
   "source": [
    "with open(\"file1.txt\",\"w\") as f:\n",
    "    f.write(\"this is opening a file to write\")"
   ]
  },
  {
   "cell_type": "code",
   "execution_count": 4,
   "id": "c310a47b-007b-4d64-8ae6-522038533f47",
   "metadata": {},
   "outputs": [],
   "source": [
    "# with open() function we can open a file there are different modes like \n",
    "#(\"r'       open for reading (default)\n",
    "#'w'       open for writing, truncating the file first\n",
    "#'x'       create a new file and open it for writing\n",
    "#'a'       open for writing, appending to the end of the file if it exists\n",
    "#'b'       binary mode\n",
    "#'t'       text mode (default)\n",
    "#'+'       open a disk file for updating (reading and writing)\n",
    "#'U'       universal newline mode (deprecated))\""
   ]
  },
  {
   "cell_type": "markdown",
   "id": "fa7b6772-f975-4895-856c-379411a1cda2",
   "metadata": {},
   "source": [
    "Q2. Why close() function is used? Why is it important to close a file?\n",
    "\n",
    "ans: The close() method closes an open file. You should always close your files, in some cases, due to buffering, changes made to a file may not show until you close the file.like you cant do reading of file after writing data if u dont close the file.so its a gud practive to close the file"
   ]
  },
  {
   "cell_type": "code",
   "execution_count": 6,
   "id": "712f66db-5321-4854-b874-3a3842727310",
   "metadata": {},
   "outputs": [],
   "source": [
    "##Q3. Write a python program to create a text file. Write ‘I want to become a Data Scientist’ in that file. Then\n",
    "##close the file. Open this file and read the content of the file."
   ]
  },
  {
   "cell_type": "code",
   "execution_count": 8,
   "id": "b1e5b35c-3baa-4a61-bfad-9bcb34203061",
   "metadata": {},
   "outputs": [],
   "source": [
    "f=open(\"file2.txt\",\"w\")"
   ]
  },
  {
   "cell_type": "code",
   "execution_count": 9,
   "id": "b1ea455c-6aee-4208-9f2b-9bce2be9e151",
   "metadata": {},
   "outputs": [
    {
     "data": {
      "text/plain": [
       "33"
      ]
     },
     "execution_count": 9,
     "metadata": {},
     "output_type": "execute_result"
    }
   ],
   "source": [
    "f.write(\"i want to become a data scientist\")"
   ]
  },
  {
   "cell_type": "code",
   "execution_count": 10,
   "id": "f4c0b084-8cf2-4ba7-9a60-69c2c6bb51b2",
   "metadata": {},
   "outputs": [],
   "source": [
    "f.close()"
   ]
  },
  {
   "cell_type": "code",
   "execution_count": 12,
   "id": "13a4c618-6849-49c8-b021-85a34cae6805",
   "metadata": {},
   "outputs": [],
   "source": [
    "data=open(\"file2.txt\",\"r\")"
   ]
  },
  {
   "cell_type": "code",
   "execution_count": 13,
   "id": "98a76c37-5a86-403d-a069-eda69f7c0273",
   "metadata": {},
   "outputs": [
    {
     "data": {
      "text/plain": [
       "'i want to become a data scientist'"
      ]
     },
     "execution_count": 13,
     "metadata": {},
     "output_type": "execute_result"
    }
   ],
   "source": [
    "data.read()"
   ]
  },
  {
   "cell_type": "code",
   "execution_count": 14,
   "id": "51e2b1a5-f305-4a21-8dcd-1ac12c8141cf",
   "metadata": {},
   "outputs": [],
   "source": [
    "with open(\"file3.txt\",\"w\") as f:\n",
    "    f.write(\"i want to become a data scientist\")    "
   ]
  },
  {
   "cell_type": "code",
   "execution_count": 17,
   "id": "69a93df7-d2d3-409c-9569-c7795c93faf2",
   "metadata": {},
   "outputs": [
    {
     "name": "stdout",
     "output_type": "stream",
     "text": [
      "i want to become a data scientist\n"
     ]
    }
   ],
   "source": [
    "with open(\"file3.txt\",\"r\") as f:\n",
    "    print(f.read())"
   ]
  },
  {
   "cell_type": "code",
   "execution_count": 18,
   "id": "4896cdbc-a89e-4e1f-b699-aaa9a0b1449c",
   "metadata": {},
   "outputs": [],
   "source": [
    "#Q4. Explain the following with python code: read(), readline() and readlines()."
   ]
  },
  {
   "cell_type": "code",
   "execution_count": 20,
   "id": "c69ebb24-2641-4f0a-843f-582c9872efd4",
   "metadata": {},
   "outputs": [],
   "source": [
    "with open(\"file3.txt\",\"w\") as f:\n",
    "    f.write(\"Learn complete web stack programming with React and Node by doing it the way a full-stack professional would do it. Learn how to create whole web apps from start to finish with one of the most trending tech stacks available. You can learn how to create data-driven applications, as well as how to test, protect, and deploy your code, in this thorough study path. MERN stack is one of the most versatile tech stacks available. Learn front-end and server-side support, to build a multi-platform solution.\")"
   ]
  },
  {
   "cell_type": "code",
   "execution_count": 34,
   "id": "2427b70f-5335-4203-be6b-da8a170fb10a",
   "metadata": {},
   "outputs": [
    {
     "name": "stdout",
     "output_type": "stream",
     "text": [
      "Learn complete web stack programming with React and Node by doing it the way a full-stack profession\n"
     ]
    }
   ],
   "source": [
    "with open(\"file3.txt\",\"r\") as f:\n",
    "    print(f.readline(100)) ## it reads nly 100 bytes and prints that much data"
   ]
  },
  {
   "cell_type": "code",
   "execution_count": 36,
   "id": "8df9064f-6714-4e03-8d4f-5c835c38b969",
   "metadata": {},
   "outputs": [
    {
     "name": "stdout",
     "output_type": "stream",
     "text": [
      "['Learn complete web stack programming with React and Node by doing it the way a full-stack professional would do it. Learn how to create whole web apps from start to finish with one of the most trending tech stacks available. You can learn how to create data-driven applications, as well as how to test, protect, and deploy your code, in this thorough study path. MERN stack is one of the most versatile tech stacks available. Learn front-end and server-side support, to build a multi-platform solution.']\n"
     ]
    }
   ],
   "source": [
    "with open(\"file3.txt\",\"r\") as f:\n",
    "    print(f.readlines(100))  #readlines() method will return all the lines\n",
    "                        ##in a file in the format of a list where each element is a line in the file"
   ]
  },
  {
   "cell_type": "code",
   "execution_count": 38,
   "id": "cf39af42-51db-411b-a3e5-f39fbb563014",
   "metadata": {},
   "outputs": [
    {
     "name": "stdout",
     "output_type": "stream",
     "text": [
      "Learn complete web stack programming with React and Node by doing it the way a full-stack profession\n"
     ]
    }
   ],
   "source": [
    "with open(\"file3.txt\",\"r\") as f:\n",
    "    print(f.read(100))   ## it reads the whole data in the file and prints nly 100 bytes or how  much ever mentioned in paraenthesis of data"
   ]
  },
  {
   "cell_type": "markdown",
   "id": "9b1de421-402c-48d2-9604-393464c93ad6",
   "metadata": {},
   "source": [
    "#Q5. Explain why with statement is used with open(). What is the advantage of using with statement and\n",
    "#open() together?\n",
    "\n",
    "#ans.The with statement works with the open() function to open a file. Unlike open() where you have to close the file with the close() method, the with statement closes the file for you without you telling it to. This is because the with statement calls 2 built-in methods behind the scene – __enter()__ and __exit()__ ."
   ]
  },
  {
   "cell_type": "markdown",
   "id": "c397269a-edd6-47a8-a015-18a0cd9f0fef",
   "metadata": {},
   "source": [
    "Q6. Explain the write() and writelines() functions. Give a suitable example."
   ]
  },
  {
   "cell_type": "markdown",
   "id": "677ad1c0-084e-4dc2-bbc2-5bfd6907debc",
   "metadata": {},
   "source": [
    "Ans. The write() method accepts a string as an argument and writes this string to the text file. Whereas, the writelines() method accepts an iterable i.e. a string or the list of strings as an argument and writes these strings to the text file.\n"
   ]
  },
  {
   "cell_type": "code",
   "execution_count": 46,
   "id": "e1ae6275-3862-444a-99df-6f354ee78233",
   "metadata": {},
   "outputs": [],
   "source": [
    "with open(\"file4.txt\",\"w\") as f:\n",
    "    f.write(\"this is pwskills data science class\")"
   ]
  },
  {
   "cell_type": "code",
   "execution_count": 51,
   "id": "f93be261-1714-43b6-9a5a-2b4cf6ebb25a",
   "metadata": {},
   "outputs": [],
   "source": [
    "with open(\"file5.txt\",\"w\") as f:\n",
    "    f.writelines([\"this is pw skills data science class\", \"this is webdev class\"])"
   ]
  },
  {
   "cell_type": "code",
   "execution_count": null,
   "id": "8101b41e-3e38-4e64-b869-4afc483a0cc3",
   "metadata": {},
   "outputs": [],
   "source": []
  }
 ],
 "metadata": {
  "kernelspec": {
   "display_name": "Python 3 (ipykernel)",
   "language": "python",
   "name": "python3"
  },
  "language_info": {
   "codemirror_mode": {
    "name": "ipython",
    "version": 3
   },
   "file_extension": ".py",
   "mimetype": "text/x-python",
   "name": "python",
   "nbconvert_exporter": "python",
   "pygments_lexer": "ipython3",
   "version": "3.10.8"
  }
 },
 "nbformat": 4,
 "nbformat_minor": 5
}
