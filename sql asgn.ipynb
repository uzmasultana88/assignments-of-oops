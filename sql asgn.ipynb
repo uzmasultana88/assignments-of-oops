{
 "cells": [
  {
   "cell_type": "markdown",
   "id": "a4a782d7-7b6c-4c61-a66e-980b7d7c33dd",
   "metadata": {},
   "source": [
    "#Q1. What is a database? Differentiate between SQL and NoSQL databases.\n",
    "\n",
    "ans.A database is an organized collection of structured information, or data, typically stored electronically in a computer system. \n",
    "A database is usually controlled by a database management system (DBMS).\n",
    "\n",
    "SQL databases are relational, and NoSQL databases are non-relational. \n",
    "SQL databases use structured query language (SQL) and have a predefined schema. \n",
    "NoSQL databases have dynamic schemas for unstructured data. \n",
    "SQL databases are vertically scalable, while NoSQL databases are horizontally scalable"
   ]
  },
  {
   "cell_type": "markdown",
   "id": "6a47bb23-714e-488e-aa94-e86114fe0457",
   "metadata": {},
   "source": [
    "Q2. What is DDL? Explain why CREATE, DROP, ALTER, and TRUNCATE are used with an example.\n",
    "\n",
    "ans.Data Definition Language(DDL) is a subset of SQL and a part of DBMS(Database Management System).\n",
    "DDL statements are similar to a computer programming language for defining data structures, especially database schemas.\n",
    "DDL consist of Commands to commands like CREATE, ALTER, TRUNCATE and DROP. These commands are used to create or modify the tables in SQL\n",
    "\n",
    "#create\n",
    "this command is used to create database or tables\n",
    "example \n",
    "CREATE TABLE test_table(c1 int ,c2 varchar)\n",
    "\n",
    "#alter \n",
    "this command is used to alter the table like to delete one column using drop command or add a column or modify a column\n",
    "example\n",
    "ALTER test_table \n",
    "DROP c1\n",
    "or ALTER test_table\n",
    "ADD c3 varchar(40)\n",
    "\n",
    "#truncate\n",
    "The TRUNCATE TABLE command deletes the data inside a table, but not the table itself.\n",
    "TRUNCATE test_table\n",
    "\n",
    "#drop\n",
    "The DROP TABLE command deletes a table in the database.\n",
    "DROP test_table\n"
   ]
  },
  {
   "cell_type": "markdown",
   "id": "559c1fa5-2c2c-4cc5-96b0-65518513ca19",
   "metadata": {},
   "source": [
    "Q3. What is DML? Explain INSERT, UPDATE, and DELETE with an example.\n",
    "\n",
    "ans.A DML (data manipulation language) refers to a computer programming language that allows you to add (insert), delete (delete), and alter (update) data in a database.\n",
    "A DML is typically a sublanguage of a larger database language like SQL, with the DML containing some of the language's operators.\n",
    "\n",
    "#INSERT which allows users to insert data in database tables.\n",
    "INSERT into test_table(c1,c2,c3)values(123,fauz,564)\n",
    "\n",
    "#UPDATE which allows users to update or modify the existing data in database tables.\n",
    "UPDATE test_table SET c1=321 where c2=fauz\n",
    "\n",
    "#DELETE  DML command which allows SQL users to remove single or multiple existing records from the database tables.\n",
    "\n",
    "This command of Data Manipulation Language does not delete the stored data permanently from the database.\n",
    "We use the WHERE clause with the DELETE command to select specific rows from the table.\n",
    "\n",
    "DELETE from test_table where c2=fauz\n"
   ]
  },
  {
   "cell_type": "markdown",
   "id": "89790685-5ab5-46b7-b414-77f6514a0814",
   "metadata": {},
   "source": [
    "Q4. What is DQL? Explain SELECT with an example.\n",
    "\n",
    "ans. Data Query Language (DQL) is a critical subset of SQL (Structured Query Language) used primarily for querying and retrieving data from a database.\n",
    "\n",
    "#select\n",
    "The SELECT command is used to query or retrieve data from a table in the database. It is used to retrieve a subset of records from one or more tables\n",
    "SELECT c1 from test_table\n",
    "or SELECT * from test_table"
   ]
  },
  {
   "cell_type": "markdown",
   "id": "589d7b63-4945-4943-a713-2393df7c20e1",
   "metadata": {},
   "source": [
    "Q5. Explain Primary Key and Foreign Key.\n",
    "\n",
    "A primary key is a unique identifier for each record in a table.\n",
    "A foreign key establishes a relationship between tables by referencing the primary key of another table.\n",
    "Ensures uniqueness and data integrity within a single table"
   ]
  },
  {
   "cell_type": "markdown",
   "id": "f23eb6fb-f2a9-453b-9c31-3abf43afffa6",
   "metadata": {},
   "source": [
    "Q6. Write a python code to connect MySQL to python. Explain the cursor() and execute() method.\n",
    "\n",
    "ans.import mysql.connector\n",
    "\n",
    "mydb = mysql.connector.connect(\n",
    "\n",
    "  host=\"localhost\",\n",
    "  \n",
    "  user=\"abc\",\n",
    "  \n",
    "  password=\"password\"\n",
    "  \n",
    ")\n",
    "\n",
    "mycursor = mydb.cursor()\n",
    "\n",
    "#mycursor.execute(\"select * from test1.test_table\")\n",
    "\n",
    "mycursor.execute(\"select c1 ,c5 from test1.test_table\")\n",
    "\n",
    "\n",
    "for i in mycursor.fetchall():\n",
    "\n",
    "    print(i)"
   ]
  },
  {
   "cell_type": "markdown",
   "id": "18e9e07b-00ca-49f9-b085-7f462f11c0bf",
   "metadata": {},
   "source": [
    "Q7. Give the order of execution of SQL clauses in an SQL query.\n",
    "\n",
    "SQL queries are used to access a set of records present in our database tables.\n",
    "SQL queries are made up of one or more clauses. \n",
    "A particular order must be followed to execute these clauses to obtain correct results. \n",
    "This order of execution is known as SQL query execution order.\n",
    "\n",
    "## Order----Clause---Function\n",
    "\n",
    "1\tFROM\tTables are joined to get the base data.\n",
    "\n",
    "2\tWHERE\tThe base data is filtered.\n",
    "\n",
    "3\tGROUP BY\tThe filtered base data is grouped.\n",
    "\n",
    "4\tHAVING\tThe grouped base data is filtered.\n",
    "\n",
    "5\tSELECT\tThe final data is returned.\n",
    "\n",
    "6\tORDER BY\tThe final data is sorted.\n",
    "\n",
    "7\tLIMIT\tThe returned data is limited to row count.\n"
   ]
  },
  {
   "cell_type": "code",
   "execution_count": null,
   "id": "6ba03194-aa03-49bb-915e-3cacef9ec886",
   "metadata": {},
   "outputs": [],
   "source": []
  }
 ],
 "metadata": {
  "kernelspec": {
   "display_name": "Python 3 (ipykernel)",
   "language": "python",
   "name": "python3"
  },
  "language_info": {
   "codemirror_mode": {
    "name": "ipython",
    "version": 3
   },
   "file_extension": ".py",
   "mimetype": "text/x-python",
   "name": "python",
   "nbconvert_exporter": "python",
   "pygments_lexer": "ipython3",
   "version": "3.10.8"
  }
 },
 "nbformat": 4,
 "nbformat_minor": 5
}
