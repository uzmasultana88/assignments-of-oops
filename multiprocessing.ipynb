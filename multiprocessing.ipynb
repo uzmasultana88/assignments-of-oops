{
 "cells": [
  {
   "cell_type": "markdown",
   "id": "181b4a57-72e7-43ca-b2de-2513b72ab8fd",
   "metadata": {},
   "source": [
    "Q1. What is multiprocessing in python? Why is it useful?\n",
    "\n",
    "Ans.Multiprocessing in Python is a built-in package that allows the system to run multiple processes simultaneously. \n",
    "Multiprocessing helps in performing parallel computing.\n",
    "There are several processors in a system, and each of them can run multiple processes simultaneously\n",
    "The system's throughput will be significantly increased as a result of this. "
   ]
  },
  {
   "cell_type": "markdown",
   "id": "429835e5-ec86-4e2c-a5e6-842948866f86",
   "metadata": {},
   "source": [
    "Q2. What are the differences between multiprocessing and multithreading?\n",
    "\n",
    "Ans. Multithreading runs multiple threads simultaneously within a single process, while multiprocessing runs multiple processes simultaneously within a single thread.\n",
    "\n",
    "Multithreading focuses on generating computing threads from a single process, whereas multiprocessing increases computing power by adding CPUs."
   ]
  },
  {
   "cell_type": "markdown",
   "id": "6a34aacc-58f3-43ef-befb-f423ab4ef98a",
   "metadata": {},
   "source": [
    "Q3. Write a python code to create a process using the multiprocessing module."
   ]
  },
  {
   "cell_type": "code",
   "execution_count": 1,
   "id": "2149798f-3fe9-4fda-8fb8-682de58371b8",
   "metadata": {},
   "outputs": [
    {
     "name": "stdout",
     "output_type": "stream",
     "text": [
      "Square: 100\n",
      "Cube: 1000\n",
      "Done!\n"
     ]
    }
   ],
   "source": [
    "import multiprocessing\n",
    "  \n",
    "def print_cube(num):\n",
    "    print(\"Cube: {}\".format(num * num * num))\n",
    "  \n",
    "def print_square(num):\n",
    "    print(\"Square: {}\".format(num * num))\n",
    "  \n",
    "if __name__ == \"__main__\":\n",
    "    # creating processes\n",
    "    p1 = multiprocessing.Process(target=print_square, args=(10, ))\n",
    "    p2 = multiprocessing.Process(target=print_cube, args=(10, ))\n",
    "  \n",
    "    p1.start()\n",
    "    p2.start()\n",
    "    p1.join()\n",
    "    p2.join()\n",
    "    print(\"Done!\")"
   ]
  },
  {
   "cell_type": "markdown",
   "id": "1394d727-b0e8-4cd1-9d49-98a2bb76a3f7",
   "metadata": {},
   "source": [
    "Q4. What is a multiprocessing pool in python? Why is it used?\n",
    "\n",
    "Ans.Python multiprocessing Pool can be used for parallel execution of a function across multiple input values, distributing the input data across processes (data parallelism)."
   ]
  },
  {
   "cell_type": "markdown",
   "id": "248951b1-8945-4177-87a6-025196c58785",
   "metadata": {},
   "source": [
    "Q5. How can we create a pool of worker processes in python using the multiprocessing module?"
   ]
  },
  {
   "cell_type": "code",
   "execution_count": 2,
   "id": "47c0bf8f-677b-4a43-81b5-071703378d71",
   "metadata": {},
   "outputs": [
    {
     "name": "stdout",
     "output_type": "stream",
     "text": [
      "[27, 64, 125, 216, 216, 343, 658503, 512, 512]\n"
     ]
    }
   ],
   "source": [
    "## this creates a pool of 5 processes with function cube and list of args\n",
    "import multiprocessing\n",
    "def cube(n):\n",
    "    return n**3\n",
    "if __name__ == '__main__':\n",
    "    with multiprocessing.Pool(processes=5) as pool :\n",
    "        out =pool.map(cube , [3,4,5,6,6,7,87,8,8])\n",
    "        print(out)"
   ]
  },
  {
   "cell_type": "code",
   "execution_count": 3,
   "id": "c111e90e-bcac-42b5-acd6-0a51bbe0e9a6",
   "metadata": {},
   "outputs": [],
   "source": [
    "#Q6. Write a python program to create 4 processes, each process should print a different number using the\n",
    "#multiprocessing module in python."
   ]
  },
  {
   "cell_type": "code",
   "execution_count": 7,
   "id": "5771dd82-b261-412a-8887-2eee9cd839be",
   "metadata": {},
   "outputs": [
    {
     "name": "stdout",
     "output_type": "stream",
     "text": [
      "this will print the process number 748 with index number 3this will print the process number 751 with index number 6this will print the process number 749 with index number 4this will print the process number 750 with index number 5\n",
      "\n",
      "\n",
      "\n"
     ]
    }
   ],
   "source": [
    "import multiprocessing\n",
    "\n",
    "def print_num(n):\n",
    "    print(\"this will print the process number {} with index number {}\".format(os.getpid(),n))\n",
    "\n",
    "if __name__==\"__main__\":\n",
    "    with multiprocessing.Pool(processes=4) as pool :\n",
    "        out =pool.map(print_num , [3,4,5,6])\n",
    "        "
   ]
  },
  {
   "cell_type": "code",
   "execution_count": null,
   "id": "985a5c21-e032-4706-b795-694e1654814c",
   "metadata": {},
   "outputs": [],
   "source": []
  }
 ],
 "metadata": {
  "kernelspec": {
   "display_name": "Python 3 (ipykernel)",
   "language": "python",
   "name": "python3"
  },
  "language_info": {
   "codemirror_mode": {
    "name": "ipython",
    "version": 3
   },
   "file_extension": ".py",
   "mimetype": "text/x-python",
   "name": "python",
   "nbconvert_exporter": "python",
   "pygments_lexer": "ipython3",
   "version": "3.10.8"
  }
 },
 "nbformat": 4,
 "nbformat_minor": 5
}
