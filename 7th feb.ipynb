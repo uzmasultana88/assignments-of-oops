{
 "cells": [
  {
   "cell_type": "markdown",
   "id": "0256920c-9715-4597-84b9-1a696c952918",
   "metadata": {},
   "source": [
    "Q1. You are writing code for a company. The requirement of the company is that you create a python\n",
    "function that will check whether the password entered by the user is correct or not. The function should\n",
    "take the password as input and return the string “Valid Password” if the entered password follows the\n",
    "below-given password guidelines else it should return “Invalid Password”.\n",
    "Note: 1. The Password should contain at least two uppercase letters and at least two lowercase letters.\n",
    "2. The Password should contain at least a number and three special characters.\n",
    "3. The length of the password should be 10 characters long."
   ]
  },
  {
   "cell_type": "code",
   "execution_count": 6,
   "id": "8b3b2531-5929-4374-abfb-7d1eb64a9393",
   "metadata": {},
   "outputs": [],
   "source": [
    "def password_check():\n",
    "    str_input=input(\"enter the password\")\n",
    "    special_chars = \"[@_!#$%^&*()<>?/|}{~:]\"\n",
    "\n",
    "    ucap = lcap= num = char = length = 0\n",
    "    for i in str_input:\n",
    "        if i.isupper():\n",
    "            ucap+=1\n",
    "        elif i.islower():\n",
    "            lcap += 1\n",
    "        elif i.isdigit():\n",
    "            num += 1\n",
    "        elif i in special_chars:\n",
    "            char += 1\n",
    "        else:\n",
    "            continue\n",
    "    \n",
    "    if ucap >= 2 and lcap>=2 and num >= 1 and char >= 3 and len(str_input) >= 10:\n",
    "        return 'Valid Password'\n",
    "    else:\n",
    "        return 'Invalid Password'\n",
    "    "
   ]
  },
  {
   "cell_type": "code",
   "execution_count": 8,
   "id": "db1090e6-ff00-4a48-b3fb-e36e12b4b520",
   "metadata": {},
   "outputs": [
    {
     "name": "stdin",
     "output_type": "stream",
     "text": [
      "enter the password uzmaRU%$^5\n"
     ]
    },
    {
     "data": {
      "text/plain": [
       "'Valid Password'"
      ]
     },
     "execution_count": 8,
     "metadata": {},
     "output_type": "execute_result"
    }
   ],
   "source": [
    "password_check()"
   ]
  },
  {
   "cell_type": "markdown",
   "id": "74fd3897-181a-4f69-a44d-14937f70717e",
   "metadata": {},
   "source": [
    "Q2. Solve the below-given questions using at least one of the following:\n",
    "1. Lambda function\n",
    "2. Filter function\n",
    "3. map function\n",
    "4. List Comprehension\n",
    "B Check if the string starts with a particular letterY\n",
    "B Check if the string is numericY\n",
    "B Sort a list of tuples having fruit names and their quantity. [(\"mango\",99),(\"orange\",80), (\"grapes\", 1000)-\n",
    "B Find the squares of numbers from 1 to 10Y\n",
    "B Find the cube root of numbers from 1 to 10Y\n",
    "B Check if a given number is evenY\n",
    "B Filter odd numbers from the given list.\n",
    "[1,2,3,4,5,6,7,8,9,10-\n",
    "B Sort a list of integers into positive and negative integers lists.\n",
    "[1,2,3,4,5,6,-1,-2,-3,-4,-5,0]"
   ]
  },
  {
   "cell_type": "code",
   "execution_count": 12,
   "id": "65e52171-27fc-44e3-9189-79f855c8a085",
   "metadata": {},
   "outputs": [
    {
     "name": "stdin",
     "output_type": "stream",
     "text": [
      "enter the string sultana\n"
     ]
    },
    {
     "name": "stdout",
     "output_type": "stream",
     "text": [
      "valid string\n"
     ]
    }
   ],
   "source": [
    "## to check if strings starts with a particular letter=s\n",
    "string=input(\"enter the string\")\n",
    "if string.startswith(\"s\"):\n",
    "    print(\"valid string\")\n",
    "else:\n",
    "    print(\"invalid string\")"
   ]
  },
  {
   "cell_type": "code",
   "execution_count": 14,
   "id": "4a6c7a1f-1054-4c7f-bf7a-a8c9ce40be6a",
   "metadata": {},
   "outputs": [
    {
     "name": "stdin",
     "output_type": "stream",
     "text": [
      "enter the string sultana\n"
     ]
    },
    {
     "data": {
      "text/plain": [
       "['valid']"
      ]
     },
     "execution_count": 14,
     "metadata": {},
     "output_type": "execute_result"
    }
   ],
   "source": [
    "## using list comrehension\n",
    "string1=input(\"enter the string\")\n",
    "[\"valid\" if string1[0]==\"s\" else \"invalid\"]"
   ]
  },
  {
   "cell_type": "code",
   "execution_count": 16,
   "id": "6880b146-18f7-44ce-ba2b-eb37a70afaed",
   "metadata": {},
   "outputs": [
    {
     "name": "stdin",
     "output_type": "stream",
     "text": [
      "enter the string 1234\n"
     ]
    },
    {
     "data": {
      "text/plain": [
       "['numeric']"
      ]
     },
     "execution_count": 16,
     "metadata": {},
     "output_type": "execute_result"
    }
   ],
   "source": [
    "# check if string is numeric using list comprehension\n",
    "string2=input(\"enter the string\")\n",
    "[\"numeric\" if string2.isdigit()==True else \"not numeric\"]"
   ]
  },
  {
   "cell_type": "code",
   "execution_count": 34,
   "id": "90d259ae-0905-47fd-bf2c-7ba64e234de0",
   "metadata": {},
   "outputs": [
    {
     "name": "stdout",
     "output_type": "stream",
     "text": [
      "[('orange', 80), ('mango', 99), ('grapes', 1000)]\n"
     ]
    }
   ],
   "source": [
    "list1=[(\"mango\",99),(\"orange\",80),(\"grapes\",1000)] #using lmbda function\n",
    "def sorting_tuple(tup):\n",
    "    tup.sort(key=lambda x:x[1])\n",
    "    return tup\n",
    "print(sorting_tuple(list1))"
   ]
  },
  {
   "cell_type": "code",
   "execution_count": 35,
   "id": "856fdc7b-da27-46b0-8e8c-7a28c4f39435",
   "metadata": {},
   "outputs": [],
   "source": [
    "list1.sort(key=lambda x:x[1])"
   ]
  },
  {
   "cell_type": "code",
   "execution_count": 36,
   "id": "7f468060-f6a4-4a53-813e-b4496c3b324b",
   "metadata": {},
   "outputs": [
    {
     "data": {
      "text/plain": [
       "[('orange', 80), ('mango', 99), ('grapes', 1000)]"
      ]
     },
     "execution_count": 36,
     "metadata": {},
     "output_type": "execute_result"
    }
   ],
   "source": [
    "list1"
   ]
  },
  {
   "cell_type": "code",
   "execution_count": 56,
   "id": "2de960c0-4f79-4c21-b399-7a73d151d112",
   "metadata": {},
   "outputs": [],
   "source": [
    "#to find squares of number\n",
    "l=[1,2,3,4,5,6,7,8,9,10]"
   ]
  },
  {
   "cell_type": "code",
   "execution_count": 57,
   "id": "0d3fce4b-7181-4aae-8cc7-4d6a6faff90d",
   "metadata": {},
   "outputs": [
    {
     "data": {
      "text/plain": [
       "[1, 4, 9, 16, 25, 36, 49, 64, 81, 100]"
      ]
     },
     "execution_count": 57,
     "metadata": {},
     "output_type": "execute_result"
    }
   ],
   "source": [
    "list(map(lambda x : x**2 , l ))"
   ]
  },
  {
   "cell_type": "code",
   "execution_count": 58,
   "id": "f0ea3b96-82e6-4977-bc1c-2b66aa1874d8",
   "metadata": {},
   "outputs": [
    {
     "data": {
      "text/plain": [
       "[1, 4, 9, 16, 25, 36, 49, 64, 81, 100]"
      ]
     },
     "execution_count": 58,
     "metadata": {},
     "output_type": "execute_result"
    }
   ],
   "source": [
    "#2nd method\n",
    "list(map(lambda x : x**2 ,[x for x in range(1,11)] ))"
   ]
  },
  {
   "cell_type": "code",
   "execution_count": 1,
   "id": "4c81c23c-e1f3-439a-a226-34cace426631",
   "metadata": {},
   "outputs": [
    {
     "data": {
      "text/plain": [
       "[1.0,\n",
       " 1.2599210498948732,\n",
       " 1.4422495703074083,\n",
       " 1.5874010519681994,\n",
       " 1.7099759466766968,\n",
       " 1.8171205928321397,\n",
       " 1.912931182772389,\n",
       " 2.0,\n",
       " 2.080083823051904,\n",
       " 2.154434690031884]"
      ]
     },
     "execution_count": 1,
     "metadata": {},
     "output_type": "execute_result"
    }
   ],
   "source": [
    "#cube root of 1 to 10\n",
    "list(map(lambda x:x**(1/3),[x for x in range(1,11)]))"
   ]
  },
  {
   "cell_type": "code",
   "execution_count": 7,
   "id": "4c6885dc-5ea5-434e-b1ac-43d456bb666a",
   "metadata": {},
   "outputs": [
    {
     "name": "stdin",
     "output_type": "stream",
     "text": [
      "enter the number 67\n"
     ]
    },
    {
     "name": "stdout",
     "output_type": "stream",
     "text": [
      "odd number\n"
     ]
    }
   ],
   "source": [
    "# check if given number is even\n",
    "\n",
    "num=int(input(\"enter the number\"))\n",
    "if num%2==0:\n",
    "    print(\"even number\")\n",
    "else:\n",
    "    print(\"odd number\")"
   ]
  },
  {
   "cell_type": "code",
   "execution_count": 8,
   "id": "9e016505-969b-4320-9bd5-98231055f6a1",
   "metadata": {},
   "outputs": [
    {
     "name": "stdin",
     "output_type": "stream",
     "text": [
      "enter the number 45\n"
     ]
    },
    {
     "data": {
      "text/plain": [
       "['odd_num']"
      ]
     },
     "execution_count": 8,
     "metadata": {},
     "output_type": "execute_result"
    }
   ],
   "source": [
    "num=int(input(\"enter the number\"))\n",
    "[\"even_num\" if num%2==0 else \"odd_num\"]"
   ]
  },
  {
   "cell_type": "code",
   "execution_count": 9,
   "id": "edd8d147-82d0-4da7-852e-eb758ab26443",
   "metadata": {},
   "outputs": [
    {
     "data": {
      "text/plain": [
       "[1, 3, 5, 7, 9]"
      ]
     },
     "execution_count": 9,
     "metadata": {},
     "output_type": "execute_result"
    }
   ],
   "source": [
    "#Filter odd numbers from the given list.\n",
    "l1=[1,2,3,4,5,6,7,8,9,10]\n",
    "list(filter(lambda x:x%2!=0,l1))"
   ]
  },
  {
   "cell_type": "code",
   "execution_count": 10,
   "id": "c4181af0-1a5b-45e8-b807-758d93fffad1",
   "metadata": {},
   "outputs": [
    {
     "data": {
      "text/plain": [
       "[1, 2, 3, 4, 5, 6, 0]"
      ]
     },
     "execution_count": 10,
     "metadata": {},
     "output_type": "execute_result"
    }
   ],
   "source": [
    "# Sort a list of integers into positive and negative integers lists.\n",
    "l2=[1,2,3,4,5,6,-1,-2,-3,-4,-5,0]\n",
    "list(filter(lambda x:x>=0,l2))"
   ]
  },
  {
   "cell_type": "code",
   "execution_count": 11,
   "id": "c0464ead-6e12-4feb-94ec-82a268d97ffe",
   "metadata": {},
   "outputs": [
    {
     "data": {
      "text/plain": [
       "[-1, -2, -3, -4, -5]"
      ]
     },
     "execution_count": 11,
     "metadata": {},
     "output_type": "execute_result"
    }
   ],
   "source": [
    "list(filter(lambda x:x<0,l2))"
   ]
  },
  {
   "cell_type": "code",
   "execution_count": null,
   "id": "17dabae7-6924-4a63-84fa-82270aba175f",
   "metadata": {},
   "outputs": [],
   "source": []
  }
 ],
 "metadata": {
  "kernelspec": {
   "display_name": "Python 3 (ipykernel)",
   "language": "python",
   "name": "python3"
  },
  "language_info": {
   "codemirror_mode": {
    "name": "ipython",
    "version": 3
   },
   "file_extension": ".py",
   "mimetype": "text/x-python",
   "name": "python",
   "nbconvert_exporter": "python",
   "pygments_lexer": "ipython3",
   "version": "3.10.8"
  }
 },
 "nbformat": 4,
 "nbformat_minor": 5
}
