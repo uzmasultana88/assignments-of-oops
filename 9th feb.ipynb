{
 "cells": [
  {
   "cell_type": "markdown",
   "id": "0df827d9-dc78-4a54-abb4-33581fb36f5c",
   "metadata": {},
   "source": [
    "Q1, Create a vehicle class with an init method having instance variables as name_of_vehicle, max_speed\n",
    "and average_of_vehicle."
   ]
  },
  {
   "cell_type": "code",
   "execution_count": 2,
   "id": "2ba0bcf0-ece7-460c-af61-c4f2b88e6c1b",
   "metadata": {},
   "outputs": [],
   "source": [
    "class vehicle:\n",
    "    def __init__(self, name_of_vehicle, max_speed, average_of_vehicle ):\n",
    "        self.name_of_vehicl=name_of_vehicle\n",
    "        self.maxspeed=max_speed\n",
    "        self.averageof_vehicle=average_of_vehicle\n",
    "        "
   ]
  },
  {
   "cell_type": "code",
   "execution_count": 3,
   "id": "02a6e456-214a-414e-960b-b7c394251e94",
   "metadata": {},
   "outputs": [],
   "source": [
    "obj_of_veh=vehicle(\"swift_dzire\",120,90)"
   ]
  },
  {
   "cell_type": "code",
   "execution_count": 4,
   "id": "33fc7aba-58a2-4ed8-ba13-ac88263db9f4",
   "metadata": {},
   "outputs": [
    {
     "data": {
      "text/plain": [
       "'swift_dzire'"
      ]
     },
     "execution_count": 4,
     "metadata": {},
     "output_type": "execute_result"
    }
   ],
   "source": [
    "obj_of_veh.name_of_vehicl"
   ]
  },
  {
   "cell_type": "markdown",
   "id": "7b607a18-60b0-4f9f-9b8b-37bed5566618",
   "metadata": {},
   "source": [
    "Q2. Create a child class car from the vehicle class created in Que 1, which will inherit the vehicle class.\n",
    "Create a method named seating_capacity which takes capacity as an argument and returns the name of\n",
    "the vehicle and its seating capacity."
   ]
  },
  {
   "cell_type": "code",
   "execution_count": 5,
   "id": "9831bb8d-8c1e-417c-8fab-5b8a692bd133",
   "metadata": {},
   "outputs": [],
   "source": [
    "class child_vehicle(vehicle):\n",
    "    def seating_capacity(self, capacity):\n",
    "        self.capacity=capacity\n",
    "        return self.name_of_vehicl,self.capacity"
   ]
  },
  {
   "cell_type": "code",
   "execution_count": 38,
   "id": "ef8d3962-7e77-435c-a4a6-19c52756df87",
   "metadata": {},
   "outputs": [],
   "source": [
    "obj_of_child_vehicle=child_vehicle(\"santro\",180,80)"
   ]
  },
  {
   "cell_type": "code",
   "execution_count": 39,
   "id": "5ffe23b5-b8d6-4634-bac4-6dbb729d531c",
   "metadata": {},
   "outputs": [
    {
     "data": {
      "text/plain": [
       "('santro', 2)"
      ]
     },
     "execution_count": 39,
     "metadata": {},
     "output_type": "execute_result"
    }
   ],
   "source": [
    "obj_of_child_vehicle.seating_capacity(2)"
   ]
  },
  {
   "cell_type": "code",
   "execution_count": 40,
   "id": "f1f81470-f005-4a7f-b6bd-23a7f1307856",
   "metadata": {},
   "outputs": [
    {
     "data": {
      "text/plain": [
       "('santro', 4)"
      ]
     },
     "execution_count": 40,
     "metadata": {},
     "output_type": "execute_result"
    }
   ],
   "source": [
    "obj_of_child_vehicle.seating_capacity(4)"
   ]
  },
  {
   "cell_type": "markdown",
   "id": "3c02c6f0-5f33-4b09-b4e8-118d378e413b",
   "metadata": {},
   "source": [
    "Q3. What is multiple inheritance? Write a python code to demonstrate multiple inheritance."
   ]
  },
  {
   "cell_type": "markdown",
   "id": "81bb84b3-084b-40d5-8189-32844b7fa747",
   "metadata": {},
   "source": [
    "A class can be derived from more than one superclass in Python. This is called multiple inheritance."
   ]
  },
  {
   "cell_type": "code",
   "execution_count": 1,
   "id": "a385f960-3084-4a88-8a50-be9019edac18",
   "metadata": {},
   "outputs": [],
   "source": [
    "class Mammal:\n",
    "    def mammal_info(self):\n",
    "        print(\"Mammals can give direct birth.\")\n",
    "\n",
    "class WingedAnimal:\n",
    "    def winged_animal_info(self):\n",
    "        print(\"Winged animals can flap.\")\n",
    "\n",
    "class Bat(Mammal, WingedAnimal):\n",
    "    pass"
   ]
  },
  {
   "cell_type": "code",
   "execution_count": 2,
   "id": "69b2b000-87b6-4fda-b441-93a2f9df7d8b",
   "metadata": {},
   "outputs": [],
   "source": [
    "# create an object of Bat class\n",
    "b1 = Bat()"
   ]
  },
  {
   "cell_type": "code",
   "execution_count": 3,
   "id": "f7e7da2a-add7-436b-a78d-2b535039aea0",
   "metadata": {},
   "outputs": [
    {
     "name": "stdout",
     "output_type": "stream",
     "text": [
      "Mammals can give direct birth.\n"
     ]
    }
   ],
   "source": [
    "b1.mammal_info()"
   ]
  },
  {
   "cell_type": "code",
   "execution_count": 4,
   "id": "aa2a9410-5cae-4f35-80e8-ddd43e4891d1",
   "metadata": {},
   "outputs": [
    {
     "name": "stdout",
     "output_type": "stream",
     "text": [
      "Winged animals can flap.\n"
     ]
    }
   ],
   "source": [
    "\n",
    "b1.winged_animal_info()"
   ]
  },
  {
   "cell_type": "markdown",
   "id": "e683abee-7fcf-4656-a404-760565925127",
   "metadata": {},
   "source": [
    "Q4. What are getter and setter in python? Create a class and create a getter and a setter method in this\n",
    "class."
   ]
  },
  {
   "cell_type": "markdown",
   "id": "43521dc7-64b2-4c73-a472-e70ee9589933",
   "metadata": {},
   "source": [
    "Getters are the methods that are used in Object-Oriented Programming (OOPS) to access a class's private attributes. \n",
    "The setattr() function in Python corresponds to the getattr() function in Python. It alters an object's attribute values.\n",
    "\n",
    "The setter is a method that is used to set the property's value. \n",
    "It is very useful in object-oriented programming to set the value of private attributes in a class."
   ]
  },
  {
   "cell_type": "markdown",
   "id": "dec52888-150a-4540-8fb5-0943dc49ca1a",
   "metadata": {},
   "source": [
    "Generally, getters and setters are mainly used to ensure the data encapsulation in OOPs."
   ]
  },
  {
   "cell_type": "code",
   "execution_count": 19,
   "id": "2aa084ef-fd3c-415d-8770-016c16458d63",
   "metadata": {},
   "outputs": [],
   "source": [
    "class employee:\n",
    "    def __init__(self, first, last):\n",
    "        self.first=first\n",
    "        self.last=last\n",
    "        \n",
    "    @property\n",
    "    def email(self):\n",
    "        return \"{}.{}.gmail.com \".format(self.first,self.last)\n",
    "    @property\n",
    "    def fullname(self):\n",
    "        return \"{} {}\".format(self.first,self.last)\n",
    "    \n",
    "    @fullname.setter\n",
    "    def fullname(self,name):\n",
    "        first, last = name.split(\" \")\n",
    "        self.first=first\n",
    "        self.last=last\n",
    "        self.full_name=name\n",
    "    @fullname.getter\n",
    "    def fullname(self):\n",
    "        print(\"the full name is\")\n",
    "        return self.full_name\n",
    "\n",
    "    \n",
    "        "
   ]
  },
  {
   "cell_type": "code",
   "execution_count": 20,
   "id": "886817ef-a2e4-43fd-8ecf-77b0e09618ef",
   "metadata": {},
   "outputs": [],
   "source": [
    "emp_1=employee(\"uzma\",\"syed\")"
   ]
  },
  {
   "cell_type": "code",
   "execution_count": 21,
   "id": "28665e98-01a1-4373-ac5f-150c19f9f81f",
   "metadata": {},
   "outputs": [],
   "source": [
    "emp_1.fullname=\"syed rafi\""
   ]
  },
  {
   "cell_type": "code",
   "execution_count": 22,
   "id": "24370010-d002-4c57-8b05-67b41fee7d66",
   "metadata": {},
   "outputs": [
    {
     "name": "stdout",
     "output_type": "stream",
     "text": [
      "syed\n",
      "syed.rafi.gmail.com \n",
      "the full name is\n",
      "syed rafi\n"
     ]
    }
   ],
   "source": [
    "print(emp_1.first)\n",
    "print(emp_1.email)\n",
    "print(emp_1.fullname)"
   ]
  },
  {
   "cell_type": "markdown",
   "id": "0eb0398c-7bfe-4724-aaf7-3cb7292eb336",
   "metadata": {},
   "source": [
    "Q5.What is method overriding in python? Write a python code to demonstrate method overriding."
   ]
  },
  {
   "cell_type": "markdown",
   "id": "dfe537e9-ed8c-4f43-9e6a-9396d5e61f3b",
   "metadata": {},
   "source": [
    "Method overriding is an ability of any object-oriented programming language that allows a  child class to provide a specific implementation of a method that is already provided by one of its super-classes or parent classes. \n",
    "When a method in a subclass has the same name, same parameters or signature and same return type(or sub-type) as a method in its super-class, then the method in the subclass is said to override the method in the super-class."
   ]
  },
  {
   "cell_type": "code",
   "execution_count": 23,
   "id": "84c9fc76-27f2-451c-b319-52a94674a5e5",
   "metadata": {},
   "outputs": [
    {
     "name": "stdout",
     "output_type": "stream",
     "text": [
      "Inside Parent\n",
      "Inside Child\n"
     ]
    }
   ],
   "source": [
    "class Parent():\n",
    "      \n",
    "    def __init__(self):\n",
    "        self.value = \"Inside Parent\"\n",
    "          \n",
    "    def show(self):\n",
    "        print(self.value)\n",
    "          \n",
    "\n",
    "class Child(Parent):\n",
    "      \n",
    "    def __init__(self):\n",
    "        self.value = \"Inside Child\"\n",
    "          \n",
    "    def show(self):\n",
    "        print(self.value)\n",
    "          \n",
    "          \n",
    "obj1 = Parent()\n",
    "obj2 = Child()\n",
    "  \n",
    "obj1.show()\n",
    "obj2.show()"
   ]
  },
  {
   "cell_type": "code",
   "execution_count": null,
   "id": "72f0d902-2c6f-4d8b-8b9e-b8829aebf1d0",
   "metadata": {},
   "outputs": [],
   "source": []
  }
 ],
 "metadata": {
  "kernelspec": {
   "display_name": "Python 3 (ipykernel)",
   "language": "python",
   "name": "python3"
  },
  "language_info": {
   "codemirror_mode": {
    "name": "ipython",
    "version": 3
   },
   "file_extension": ".py",
   "mimetype": "text/x-python",
   "name": "python",
   "nbconvert_exporter": "python",
   "pygments_lexer": "ipython3",
   "version": "3.10.8"
  }
 },
 "nbformat": 4,
 "nbformat_minor": 5
}
