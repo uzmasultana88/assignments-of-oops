{
 "cells": [
  {
   "cell_type": "markdown",
   "id": "33356fa9-2c1d-4ce1-9a29-114e29d365a4",
   "metadata": {},
   "source": [
    "q1. what is multithreading in python? why is it used? Name the module used to handle threads in python\n",
    "\n",
    "Ans.Multithreading enables us to run multiple threads concurrently in a single processor.\n",
    "Multithreading in Python streamlines the efficient utilization of resources as the threads share the same memory and data space.\n",
    "\n",
    "It  allows the concurrent appearance of multiple tasks and reduces the response time.This improves the performance.\n",
    "\n",
    "import multithreading is the module use to handle threads"
   ]
  },
  {
   "cell_type": "markdown",
   "id": "1726f32e-6cf9-4ed4-ae01-5744c3d416f1",
   "metadata": {},
   "source": [
    "Q2. why threading module used? write the use of the following functions\n",
    "1. activeCount\n",
    "2. currentThread\n",
    "3.  enumerate\n",
    "\n",
    "Ans.Threading in python is used to run multiple threads (tasks, function calls) at the same time.\n",
    "activeCount() − Returns the number of thread objects that are active.\n",
    "currentThread() − Returns the number of thread objects in the caller's thread control.\n",
    " enumerate() − Returns a list of all thread objects that are currently active.\n"
   ]
  },
  {
   "cell_type": "markdown",
   "id": "63d52dbb-4e81-4583-b210-c7bc9ff27a44",
   "metadata": {},
   "source": [
    "Q3. Explain the following functions\n",
    " run()\n",
    " start()\n",
    " join()\n",
    " isAlive()"
   ]
  },
  {
   "cell_type": "markdown",
   "id": "c39ac32b-61b6-4f85-b9b8-2ba74edc02a9",
   "metadata": {},
   "source": [
    "Ans.run(): method executes any target function belonging to a given thread object that is now active.\n",
    "It normally executes in the background after the . start() method is invoked.\n",
    "start():it is used to start a thread's activity.\n",
    "This method calls the run() method internally which then executes the target method. \n",
    "join():A thread can be joined in Python by calling the Thread. join() method. \n",
    "This has the effect of blocking the current thread until the target thread that has been joined has terminated.\n",
    "isalive():The . is_alive() method returns True if the thread is still running and False , otherwise"
   ]
  },
  {
   "cell_type": "markdown",
   "id": "9620cc30-95be-4fc4-8a7f-5b754ac1b173",
   "metadata": {},
   "source": [
    "Q4. write a python program to create two threads. Thread one must print the list of squares and thread\n",
    "two must print the list of cubes."
   ]
  },
  {
   "cell_type": "code",
   "execution_count": null,
   "id": "bf825546-c0e3-4a5c-80ff-9a623e7e6b94",
   "metadata": {},
   "outputs": [],
   "source": [
    "import threading"
   ]
  },
  {
   "cell_type": "code",
   "execution_count": null,
   "id": "62adb66f-2115-44b7-a349-4b48261d0d17",
   "metadata": {},
   "outputs": [
    {
     "name": "stdout",
     "output_type": "stream",
     "text": [
      "square of 2 is:4\n",
      "square of 3 is:9\n",
      "square of 4 is:16\n",
      "square of 5 is:25\n",
      "square of 6 is:36\n",
      "square of 34 is:1156\n",
      "square of 6 is:36\n",
      "cube of 2 is :8\n",
      "cube of 3 is :27\n",
      "cube of 4 is :64\n",
      "cube of 5 is :125\n",
      "cube of 6 is :216\n",
      "cube of 34 is :39304\n",
      "cube of 6 is :216\n"
     ]
    }
   ],
   "source": [
    "import threading\n",
    "\n",
    "def square_num(a):\n",
    "    print(\"square of {} is:{}\".format(a,a**2))\n",
    "def cube_num(a):\n",
    "    print(\"cube of {} is :{}\".format(a,a**3))\n",
    "\n",
    "thread1=[threading.Thread(target=square_num,args=(i,)) for i in [2,3,4,5,6,34,6]]\n",
    "thread2=[threading.Thread(target=cube_num,args=(i,)) for i in [2,3,4,5,6,34,6]]\n",
    "\n",
    "for t in thread1:\n",
    "    t.start()\n",
    "for r in thread2:\n",
    "    r.start()"
   ]
  },
  {
   "cell_type": "code",
   "execution_count": 30,
   "id": "ce1cda4a-628f-4672-830f-3ecba4e3c1c9",
   "metadata": {},
   "outputs": [
    {
     "name": "stdout",
     "output_type": "stream",
     "text": [
      "the list of squares of number\n",
      "[1, 9, 16, 36, 25, 16, 9]\n",
      "the list of cubes of number\n",
      "[1, 27, 64, 216, 125, 64, 27]\n"
     ]
    }
   ],
   "source": [
    "import threading \n",
    "\n",
    "list1=[1,3,4,6,5,4,3]\n",
    "\n",
    "def square_1(a):\n",
    "    l1=[]\n",
    "    for i in a:\n",
    "        i=i**2\n",
    "        l1.append(i)\n",
    "    print(\"the list of squares of number\")    \n",
    "    print(l1)\n",
    "    \n",
    "def cube_1(a):\n",
    "    l2=[]\n",
    "    for i in a:\n",
    "        i=i**3\n",
    "        l2.append(i)\n",
    "    print(\"the list of cubes of number\")\n",
    "    print(l2)  \n",
    "    \n",
    "thread1=threading.Thread(target=square_1, args=(list1,))\n",
    "thread2=threading.Thread(target=cube_1, args=(list1,))\n",
    "\n",
    "thread1.start()\n",
    "thread2.start()        "
   ]
  },
  {
   "cell_type": "markdown",
   "id": "69c2821b-a7fb-41b9-92ba-2d1042a84b5d",
   "metadata": {},
   "source": [
    "q5. State advantages and disadvantages of multithreading\n",
    "\n",
    "Ans.Advantages of multithreading, as follows:\n",
    "\n",
    "1.It ensures effective utilization of computer system resources.\n",
    "2.Multithreaded applications are more responsive.\n",
    "3.It shares resources and its state with sub-threads (child) which makes it more economical.\n",
    "4.It makes the multiprocessor architecture more effective due to similarity.\n",
    "5.It saves time by executing multiple threads at the same time.\n",
    "6.The system does not require too much memory to store multiple threads.\n",
    "\n",
    "Disadavatges as follows:\n",
    "Difficulty of writing code. Multithreaded and multicontexted applications are not easy to write. ...\n",
    "Difficulty of debugging. \n",
    "Difficulty of managing concurrency.\n",
    "Difficulty of testing. \n",
    "Difficulty of porting existing code."
   ]
  },
  {
   "cell_type": "markdown",
   "id": "774d0681-a282-477f-ac98-cc5e7d2ebc9f",
   "metadata": {},
   "source": [
    "q6. Explain deadlocks and race conditions.\n",
    "\n",
    "Ans.A race condition occurs when two threads use the same variable at a given time.\n",
    "Deadlock exists when two threads seek one lock simultaneously. This situation will stop both threads from processing or executing the functions."
   ]
  },
  {
   "cell_type": "code",
   "execution_count": null,
   "id": "24b81eb7-173e-4b26-bdf5-4098cacabcdc",
   "metadata": {},
   "outputs": [],
   "source": []
  }
 ],
 "metadata": {
  "kernelspec": {
   "display_name": "Python 3 (ipykernel)",
   "language": "python",
   "name": "python3"
  },
  "language_info": {
   "codemirror_mode": {
    "name": "ipython",
    "version": 3
   },
   "file_extension": ".py",
   "mimetype": "text/x-python",
   "name": "python",
   "nbconvert_exporter": "python",
   "pygments_lexer": "ipython3",
   "version": "3.10.8"
  }
 },
 "nbformat": 4,
 "nbformat_minor": 5
}
