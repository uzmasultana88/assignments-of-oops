{
 "cells": [
  {
   "cell_type": "markdown",
   "id": "51ee5d76-df6c-49cd-969e-9f7efeb05b4b",
   "metadata": {},
   "source": [
    "Q1. What is an Exception in python? Write the difference between Exceptions and syntax error"
   ]
  },
  {
   "cell_type": "markdown",
   "id": "5826327c-6bee-485f-8ea5-24f47163ae48",
   "metadata": {},
   "source": [
    "exceptions are raised when some internal events occur which changes the normal flow of the program. For example, when we divide any number by zero then the ZeroDivisionError exception is raised,.\n",
    "When the proper syntax of the language is not followed then a syntax error is thrown.example, after if statement colon is missed or some error in program writing ."
   ]
  },
  {
   "cell_type": "markdown",
   "id": "6007c4b1-8065-4ac4-9b3b-932d39bc4d17",
   "metadata": {},
   "source": [
    "Q2. What happens when an exception is not handled? Explain with an exmple"
   ]
  },
  {
   "cell_type": "markdown",
   "id": "4342febf-0107-412d-a20f-cb9e685ac52a",
   "metadata": {},
   "source": [
    "ans.When an exception occurred, if you don't handle it, the program terminates abruptly and the code past the line that caused the exception will not get executed."
   ]
  },
  {
   "cell_type": "code",
   "execution_count": 2,
   "id": "74eb1253-e61e-4d3c-a2f8-b7ba9f9ae650",
   "metadata": {},
   "outputs": [
    {
     "ename": "FileNotFoundError",
     "evalue": "[Errno 2] No such file or directory: 'test.txt'",
     "output_type": "error",
     "traceback": [
      "\u001b[0;31m---------------------------------------------------------------------------\u001b[0m",
      "\u001b[0;31mFileNotFoundError\u001b[0m                         Traceback (most recent call last)",
      "Cell \u001b[0;32mIn[2], line 1\u001b[0m\n\u001b[0;32m----> 1\u001b[0m f\u001b[38;5;241m=\u001b[39m\u001b[38;5;28;43mopen\u001b[39;49m\u001b[43m(\u001b[49m\u001b[38;5;124;43m\"\u001b[39;49m\u001b[38;5;124;43mtest.txt\u001b[39;49m\u001b[38;5;124;43m\"\u001b[39;49m\u001b[43m,\u001b[49m\u001b[38;5;124;43m\"\u001b[39;49m\u001b[38;5;124;43mr\u001b[39;49m\u001b[38;5;124;43m\"\u001b[39;49m\u001b[43m)\u001b[49m\n\u001b[1;32m      2\u001b[0m \u001b[38;5;28mprint\u001b[39m(\u001b[38;5;124m\"\u001b[39m\u001b[38;5;124mthis is my check\u001b[39m\u001b[38;5;124m\"\u001b[39m)\n\u001b[1;32m      3\u001b[0m a\u001b[38;5;241m=\u001b[39m\u001b[38;5;241m10\u001b[39m\n",
      "File \u001b[0;32m/opt/conda/lib/python3.10/site-packages/IPython/core/interactiveshell.py:282\u001b[0m, in \u001b[0;36m_modified_open\u001b[0;34m(file, *args, **kwargs)\u001b[0m\n\u001b[1;32m    275\u001b[0m \u001b[38;5;28;01mif\u001b[39;00m file \u001b[38;5;129;01min\u001b[39;00m {\u001b[38;5;241m0\u001b[39m, \u001b[38;5;241m1\u001b[39m, \u001b[38;5;241m2\u001b[39m}:\n\u001b[1;32m    276\u001b[0m     \u001b[38;5;28;01mraise\u001b[39;00m \u001b[38;5;167;01mValueError\u001b[39;00m(\n\u001b[1;32m    277\u001b[0m         \u001b[38;5;124mf\u001b[39m\u001b[38;5;124m\"\u001b[39m\u001b[38;5;124mIPython won\u001b[39m\u001b[38;5;124m'\u001b[39m\u001b[38;5;124mt let you open fd=\u001b[39m\u001b[38;5;132;01m{\u001b[39;00mfile\u001b[38;5;132;01m}\u001b[39;00m\u001b[38;5;124m by default \u001b[39m\u001b[38;5;124m\"\u001b[39m\n\u001b[1;32m    278\u001b[0m         \u001b[38;5;124m\"\u001b[39m\u001b[38;5;124mas it is likely to crash IPython. If you know what you are doing, \u001b[39m\u001b[38;5;124m\"\u001b[39m\n\u001b[1;32m    279\u001b[0m         \u001b[38;5;124m\"\u001b[39m\u001b[38;5;124myou can use builtins\u001b[39m\u001b[38;5;124m'\u001b[39m\u001b[38;5;124m open.\u001b[39m\u001b[38;5;124m\"\u001b[39m\n\u001b[1;32m    280\u001b[0m     )\n\u001b[0;32m--> 282\u001b[0m \u001b[38;5;28;01mreturn\u001b[39;00m \u001b[43mio_open\u001b[49m\u001b[43m(\u001b[49m\u001b[43mfile\u001b[49m\u001b[43m,\u001b[49m\u001b[43m \u001b[49m\u001b[38;5;241;43m*\u001b[39;49m\u001b[43margs\u001b[49m\u001b[43m,\u001b[49m\u001b[43m \u001b[49m\u001b[38;5;241;43m*\u001b[39;49m\u001b[38;5;241;43m*\u001b[39;49m\u001b[43mkwargs\u001b[49m\u001b[43m)\u001b[49m\n",
      "\u001b[0;31mFileNotFoundError\u001b[0m: [Errno 2] No such file or directory: 'test.txt'"
     ]
    }
   ],
   "source": [
    "f=open(\"test.txt\",\"r\")\n",
    "print(\"this is my check\")\n",
    "a=10\n",
    "a"
   ]
  },
  {
   "cell_type": "markdown",
   "id": "6232cc04-623f-4eb5-9df6-f6814175b2d4",
   "metadata": {},
   "source": [
    "Q3. Which Python statements are used to catch and handle exceptions? Explain with an example"
   ]
  },
  {
   "cell_type": "markdown",
   "id": "5a13d296-e991-46a7-8604-de6c174f5d38",
   "metadata": {},
   "source": [
    "Ans.try and except are statements used  to catch and handle exception "
   ]
  },
  {
   "cell_type": "code",
   "execution_count": 3,
   "id": "a7e55035-fe2c-475d-bb17-44bc0061b870",
   "metadata": {},
   "outputs": [
    {
     "name": "stdout",
     "output_type": "stream",
     "text": [
      "there is some error in my code [Errno 2] No such file or directory: 'test.txt'\n"
     ]
    }
   ],
   "source": [
    "try:\n",
    "    f=open(\"test.txt\",\"r\")\n",
    "except  Exception as e:\n",
    "    print(\"there is some error in my code\",e)"
   ]
  },
  {
   "cell_type": "markdown",
   "id": "1923026c-6ae0-41b5-90f5-360f05ea2ef5",
   "metadata": {},
   "source": [
    "Q4. Explain with an example:#try and else # finally # raise\n",
    "Q5. What are Custom Exceptions in python? Why do we need Custom Exceptions? Explain with an example\n",
    "Q6. Create a custom exception class. Use this class to handle an exception."
   ]
  },
  {
   "cell_type": "code",
   "execution_count": 4,
   "id": "1c443302-d6be-4643-af62-baaf2dc85af6",
   "metadata": {},
   "outputs": [
    {
     "name": "stdout",
     "output_type": "stream",
     "text": [
      "this block il execute when try block is executed without exception\n"
     ]
    }
   ],
   "source": [
    "try:\n",
    "    f=open(\"test.txt\",\"w\")\n",
    "    f.write(\"this is a exception file\")\n",
    "except  Exception as e:\n",
    "    print(\"there is some error in my code\",e)\n",
    "else:\n",
    "    f.close()\n",
    "    print(\"this block il execute when try block is executed without exception\")"
   ]
  },
  {
   "cell_type": "code",
   "execution_count": 5,
   "id": "643ca06f-5504-4347-9fd7-a37d744b5bfc",
   "metadata": {},
   "outputs": [
    {
     "name": "stdout",
     "output_type": "stream",
     "text": [
      "this block il execute when try block is executed without exception\n",
      "iam always present\n"
     ]
    }
   ],
   "source": [
    "try:\n",
    "    f=open(\"test.txt\",\"w\")\n",
    "    f.write(\"this is a exception file\")\n",
    "except  Exception as e:\n",
    "    print(\"there is some error in my code\",e)\n",
    "else:\n",
    "    f.close()\n",
    "    print(\"this block il execute when try block is executed without exception\")\n",
    "finally:\n",
    "    print(\"iam always present\")"
   ]
  },
  {
   "cell_type": "markdown",
   "id": "73bd31ff-cb3f-4273-b1a4-6d88a2098565",
   "metadata": {},
   "source": [
    "Ans.You can subclass any of the standard exception classes in order to define your own exception class.\n",
    "Having custom exceptions - tailored to your specific use cases and that you can raise and catch in specific circumstances - can make your code much more readable and robust, and reduce the amount of code you write later to try and figure out what exactly went wrong"
   ]
  },
  {
   "cell_type": "code",
   "execution_count": 7,
   "id": "67a398d5-0a7c-4dc7-bcce-14d9d3eaa8b2",
   "metadata": {},
   "outputs": [],
   "source": [
    "class validateage(Exception):\n",
    "    def __init__(self,msg):\n",
    "        self.msg=msg"
   ]
  },
  {
   "cell_type": "code",
   "execution_count": 8,
   "id": "d12a3d6c-4842-412c-807a-2d5cb4bbfc28",
   "metadata": {},
   "outputs": [],
   "source": [
    "def validate_age(age):\n",
    "    if age<0:\n",
    "        raise validateage(\"enter the correct valid age\")\n",
    "    elif age>200:\n",
    "        raise validateage(\"age is too high ,plz enter correct age\")\n",
    "    else:\n",
    "        print(\"valid age.thank you\")"
   ]
  },
  {
   "cell_type": "code",
   "execution_count": 9,
   "id": "854f2550-ec62-4965-a45c-7f4123e136ef",
   "metadata": {},
   "outputs": [
    {
     "name": "stdin",
     "output_type": "stream",
     "text": [
      "enter your age 765\n"
     ]
    },
    {
     "name": "stdout",
     "output_type": "stream",
     "text": [
      "age is too high ,plz enter correct age\n"
     ]
    }
   ],
   "source": [
    "try:\n",
    "    age=int(input(\"enter your age\"))\n",
    "    validate_age(age)\n",
    "except validateage as e:\n",
    "    print(e)"
   ]
  },
  {
   "cell_type": "code",
   "execution_count": null,
   "id": "ef9335af-2eb9-4d0a-b866-366adc36d3ba",
   "metadata": {},
   "outputs": [],
   "source": []
  },
  {
   "cell_type": "code",
   "execution_count": null,
   "id": "e82a123e-b6de-4daf-9bd3-c097223f9518",
   "metadata": {},
   "outputs": [],
   "source": []
  }
 ],
 "metadata": {
  "kernelspec": {
   "display_name": "Python 3 (ipykernel)",
   "language": "python",
   "name": "python3"
  },
  "language_info": {
   "codemirror_mode": {
    "name": "ipython",
    "version": 3
   },
   "file_extension": ".py",
   "mimetype": "text/x-python",
   "name": "python",
   "nbconvert_exporter": "python",
   "pygments_lexer": "ipython3",
   "version": "3.10.8"
  }
 },
 "nbformat": 4,
 "nbformat_minor": 5
}
