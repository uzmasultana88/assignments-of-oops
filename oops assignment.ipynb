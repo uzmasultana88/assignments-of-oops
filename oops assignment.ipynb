{
 "cells": [
  {
   "cell_type": "markdown",
   "id": "6778fc7a-0bd0-4dca-b441-25d1495f9391",
   "metadata": {},
   "source": [
    "Q1. Explain Class and Object with respect to Object-Oriented Programming. Give a suitable example."
   ]
  },
  {
   "cell_type": "markdown",
   "id": "3c4e3af0-fd5a-4a7c-ae3d-6f56c6a069d5",
   "metadata": {},
   "source": [
    "Classes are user-defined data types that act as the blueprint for individual objects, attributes and methods.\n",
    "Objects are instances of a class. Objects can correspond to real-world objects or an abstract entity.\n",
    "for example :electroic items is class in that we can have objects like laptop ,mouse,keyboard etc"
   ]
  },
  {
   "cell_type": "code",
   "execution_count": 9,
   "id": "1af6d93f-cf19-4be7-89ee-2f576fde66ed",
   "metadata": {},
   "outputs": [],
   "source": [
    "## college is class here and we have defined two method inside  that using object we can call out this methods \n",
    "## uzma is object\n",
    "class college:\n",
    "    def degree(self):\n",
    "        print(\"plz enter all the details for admission to degree class\")\n",
    "    def puc(self):\n",
    "        print(\"plz enter all the details for admission to puc\")"
   ]
  },
  {
   "cell_type": "code",
   "execution_count": 10,
   "id": "a60a422c-4540-40f9-b272-7ccea239a9f6",
   "metadata": {},
   "outputs": [],
   "source": [
    "uzma=college()"
   ]
  },
  {
   "cell_type": "code",
   "execution_count": 11,
   "id": "f976d35a-3973-4e27-9992-0d4777322812",
   "metadata": {},
   "outputs": [
    {
     "name": "stdout",
     "output_type": "stream",
     "text": [
      "plz enter all the details for admission to degree class\n"
     ]
    }
   ],
   "source": [
    "uzma.degree()"
   ]
  },
  {
   "cell_type": "markdown",
   "id": "e47b0e75-ec2f-442a-9be8-ec77eab2d8c8",
   "metadata": {},
   "source": [
    "Q2. Name the four pillars of OOPs."
   ]
  },
  {
   "cell_type": "markdown",
   "id": "99426943-ad0c-430b-8af0-d59181fb1d5f",
   "metadata": {},
   "source": [
    "The Four Pillars of Object Oriented Programming\n",
    "\n",
    "Abstraction.\n",
    "Encapsulation.\n",
    "Inheritance.\n",
    "Polymorphism."
   ]
  },
  {
   "cell_type": "markdown",
   "id": "8bf2b6df-4b50-40db-adf9-af81c3eec1fe",
   "metadata": {},
   "source": [
    "Q3. Explain why the __init__() function is used. Give a suitable example."
   ]
  },
  {
   "cell_type": "markdown",
   "id": "320f5376-e2ff-4c74-8553-7a0e7e00f796",
   "metadata": {},
   "source": [
    "The __init__ function is used as constructor inside class.it initilizes object attributes.\n",
    "The __init__ function is called every time an object is created from a class."
   ]
  },
  {
   "cell_type": "code",
   "execution_count": 12,
   "id": "31166ace-3512-4f40-ac7d-c82f7d2cfb7f",
   "metadata": {},
   "outputs": [],
   "source": [
    "## example of init\n",
    "class bike:\n",
    "    def __init__(self,model,year,mileage):\n",
    "        self.model=model\n",
    "        self.year=year\n",
    "        self.mileage=mileage\n",
    "    def return_bike_details(self):\n",
    "        return self.model,self.year,self.mileage"
   ]
  },
  {
   "cell_type": "code",
   "execution_count": 15,
   "id": "bc867a2b-5fdc-4fd6-b0a9-96d95d1c391d",
   "metadata": {},
   "outputs": [],
   "source": [
    "bike1_obj=bike(\"pulsar\",2011,50)"
   ]
  },
  {
   "cell_type": "code",
   "execution_count": 16,
   "id": "ee7c99e4-a6f2-4c19-af31-5779e569ec23",
   "metadata": {},
   "outputs": [
    {
     "data": {
      "text/plain": [
       "('pulsar', 2011, 50)"
      ]
     },
     "execution_count": 16,
     "metadata": {},
     "output_type": "execute_result"
    }
   ],
   "source": [
    "bike1_obj.return_bike_details()"
   ]
  },
  {
   "cell_type": "markdown",
   "id": "0ea6e14d-2595-4e48-9701-a67184193da5",
   "metadata": {},
   "source": [
    "Q4. Why self is used in OOPs?"
   ]
  },
  {
   "cell_type": "markdown",
   "id": "d95e602b-e27c-487c-ae97-c78783d3f51e",
   "metadata": {},
   "source": [
    "self is used as pointer to the object of the class"
   ]
  },
  {
   "cell_type": "markdown",
   "id": "709660d3-c9b1-43c4-8eab-51afe0029818",
   "metadata": {},
   "source": [
    "Q5. What is inheritance? Give an example for each type of inheritance."
   ]
  },
  {
   "cell_type": "markdown",
   "id": "fa646735-a23a-4a9b-8846-d968afcad7fe",
   "metadata": {},
   "source": [
    "ans. Inheritance is defined as the mechanism of inheriting the properties of the parent class to the child class or its like deriving a new class from exisiting class.\n",
    "there are 5 types of inheritance\n",
    "1). Single inheritance \n",
    "2). Multiple inheritances \n",
    "3). Multilevel inheritance \n",
    "4). Hierarchical inheritance \n",
    "5). Hybrid inheritance.\n"
   ]
  },
  {
   "cell_type": "code",
   "execution_count": 29,
   "id": "b01d5947-8cb0-427f-ac01-e26fc015ae88",
   "metadata": {},
   "outputs": [],
   "source": [
    "# single inheritance child class from only one parent\n",
    "class parent:\n",
    "    def parental_properties(self):\n",
    "        print(\"this is parent class\")\n",
    "class child(parent):\n",
    "    def child_properties(self):\n",
    "        print(\"tis is child class\")"
   ]
  },
  {
   "cell_type": "code",
   "execution_count": 30,
   "id": "9f0c8d1e-d325-4ea1-858f-46434ae4cf4c",
   "metadata": {},
   "outputs": [],
   "source": [
    "ch=child()"
   ]
  },
  {
   "cell_type": "code",
   "execution_count": 31,
   "id": "64414046-041d-4f3a-9fca-d9336a9f41d1",
   "metadata": {},
   "outputs": [
    {
     "name": "stdout",
     "output_type": "stream",
     "text": [
      "this is parent class\n"
     ]
    }
   ],
   "source": [
    "ch.parental_properties()"
   ]
  },
  {
   "cell_type": "code",
   "execution_count": 32,
   "id": "233ec696-377c-4606-83f7-20611c506c6f",
   "metadata": {},
   "outputs": [
    {
     "name": "stdout",
     "output_type": "stream",
     "text": [
      "tis is child class\n"
     ]
    }
   ],
   "source": [
    "ch.child_properties()"
   ]
  },
  {
   "cell_type": "code",
   "execution_count": 21,
   "id": "3e9ef5f5-0e1e-44e4-b6b5-ae62d35dd367",
   "metadata": {},
   "outputs": [],
   "source": [
    "## multilevel inheritance :child derived from parent and grand child from child \n",
    "class parent:\n",
    "    def parental_properties(self):\n",
    "        print(\"this is parent class\")\n",
    "class child(parent):\n",
    "    def child_properties(self):\n",
    "        print(\"tis is child class\")\n",
    "class grand_child(child):\n",
    "    def grandchild_prop(self):\n",
    "        print(\"i have both grandparent and parent properties\")"
   ]
  },
  {
   "cell_type": "code",
   "execution_count": 22,
   "id": "c3510191-64a3-4589-98a8-731c154899c1",
   "metadata": {},
   "outputs": [],
   "source": [
    "fatimah=grand_child()"
   ]
  },
  {
   "cell_type": "code",
   "execution_count": 23,
   "id": "d671baa2-0126-4062-ad6a-9addbf5755ea",
   "metadata": {},
   "outputs": [
    {
     "name": "stdout",
     "output_type": "stream",
     "text": [
      "i have both grandparent and parent properties\n"
     ]
    }
   ],
   "source": [
    "fatimah.grandchild_prop()"
   ]
  },
  {
   "cell_type": "code",
   "execution_count": 24,
   "id": "30ccbc66-7bb4-436d-ae8f-88f606e554d6",
   "metadata": {},
   "outputs": [
    {
     "name": "stdout",
     "output_type": "stream",
     "text": [
      "this is parent class\n"
     ]
    }
   ],
   "source": [
    "fatimah.parental_properties()"
   ]
  },
  {
   "cell_type": "code",
   "execution_count": 25,
   "id": "ca739a05-d248-41db-965d-4ee22fff03dd",
   "metadata": {},
   "outputs": [],
   "source": [
    "## multiple inheritance:grand child is derived from two or three class like parent and grand parent\n",
    "class parent1:\n",
    "    def parental_properties(self):\n",
    "        print(\"this is parent class\")\n",
    "        \n",
    "class child1():\n",
    "    def child_properties(self):\n",
    "        print(\"tis is child class\")\n",
    "        \n",
    "class grand_child1(parent1,child1):\n",
    "    def grand_properties(self):\n",
    "        print(\"iam grand child of parent1\")"
   ]
  },
  {
   "cell_type": "code",
   "execution_count": 26,
   "id": "5dc8d848-99f0-45df-a0b1-ab85df078a83",
   "metadata": {},
   "outputs": [],
   "source": [
    "shemma=grand_child1()"
   ]
  },
  {
   "cell_type": "code",
   "execution_count": 27,
   "id": "09c1aec9-eec9-435c-94fc-d17a018dea3f",
   "metadata": {},
   "outputs": [
    {
     "name": "stdout",
     "output_type": "stream",
     "text": [
      "iam grand child of parent1\n"
     ]
    }
   ],
   "source": [
    "shemma.grand_properties()"
   ]
  },
  {
   "cell_type": "code",
   "execution_count": 28,
   "id": "c5f09343-03e5-41c8-907f-151e2caa2c99",
   "metadata": {},
   "outputs": [
    {
     "name": "stdout",
     "output_type": "stream",
     "text": [
      "tis is child class\n"
     ]
    }
   ],
   "source": [
    "shemma.child_properties()"
   ]
  },
  {
   "cell_type": "code",
   "execution_count": 6,
   "id": "20798cf6-f68e-4490-a6f1-e24fae01cb1d",
   "metadata": {},
   "outputs": [
    {
     "name": "stdout",
     "output_type": "stream",
     "text": [
      "this is parent class\n",
      "this is child1 class inheriting parent class\n"
     ]
    }
   ],
   "source": [
    "## hierercial:When we derive  more than one child class from one(same) parent class.\n",
    "class parent2:\n",
    "    def parental_properties(self):\n",
    "        print(\"this is parent class\")\n",
    "        \n",
    "class child1(parent2):\n",
    "    def child_properties(self):\n",
    "        print(\"this is child1 class inheriting parent class\")\n",
    "        \n",
    "class child2(parent2):\n",
    "    def grand_properties(self):\n",
    "        print(\"this is child2 class inheriting parent class\")\n",
    "\n",
    "obj=child1()\n",
    "obj1=child2()\n",
    "obj.parental_properties()\n",
    "obj.child_properties()"
   ]
  },
  {
   "cell_type": "code",
   "execution_count": 5,
   "id": "776b26e6-fef6-4f97-aa5a-fd52422dadcd",
   "metadata": {},
   "outputs": [
    {
     "name": "stdout",
     "output_type": "stream",
     "text": [
      "This is Student class inheriting PC and Laptop\n",
      "This is Mouse class inheriting Laptop class\n"
     ]
    }
   ],
   "source": [
    "## hybdrid:Hybrid Inheritance is the combinations of simple, multiple, multilevel and hierarchical inheritance.\n",
    "class PC:\n",
    "    def fun1(self):\n",
    "        print(\"This is PC class\")\n",
    "\n",
    "class Laptop(PC):\n",
    "    def fun2(self):\n",
    "        print(\"This is Laptop class inheriting PC class\")\n",
    "\n",
    "class Mouse(Laptop):\n",
    "    def fun3(self):\n",
    "        print(\"This is Mouse class inheriting Laptop class\")\n",
    "\n",
    "class Student(Mouse, Laptop):\n",
    "    def fun4(self):\n",
    "        print(\"This is Student class inheriting PC and Laptop\")\n",
    "\n",
    "# Driver’s code\n",
    "obj = Student()\n",
    "obj1 = Mouse()\n",
    "obj.fun4()\n",
    "obj.fun3()"
   ]
  },
  {
   "cell_type": "code",
   "execution_count": null,
   "id": "51db62d5-62d8-4fdc-92d5-9a9f00b47588",
   "metadata": {},
   "outputs": [],
   "source": []
  }
 ],
 "metadata": {
  "kernelspec": {
   "display_name": "Python 3 (ipykernel)",
   "language": "python",
   "name": "python3"
  },
  "language_info": {
   "codemirror_mode": {
    "name": "ipython",
    "version": 3
   },
   "file_extension": ".py",
   "mimetype": "text/x-python",
   "name": "python",
   "nbconvert_exporter": "python",
   "pygments_lexer": "ipython3",
   "version": "3.10.8"
  }
 },
 "nbformat": 4,
 "nbformat_minor": 5
}
