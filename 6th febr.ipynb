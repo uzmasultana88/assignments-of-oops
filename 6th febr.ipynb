{
 "cells": [
  {
   "cell_type": "markdown",
   "id": "98d1f0d0-3927-4601-974e-8a10a6296c7f",
   "metadata": {},
   "source": [
    "Q1. Create a function which will take a list as an argument and return the product of all the numbers\n",
    "after creating a flat list.\n",
    "Use the below-given list as an argument for your function.\n",
    "list1 = [1,2,3,4, [44,55,66, True], False, (34,56,78,89,34), {1,2,3,3,2,1}, {1:34, \"key2\": [55, 67, 78, 89], 4: (45,\n",
    "22, 61, 34)}, [56, 'data science'], 'Machine Learning']"
   ]
  },
  {
   "cell_type": "code",
   "execution_count": 1,
   "id": "a9b0baeb-3cb6-4eb5-a5b4-9941ad365e21",
   "metadata": {},
   "outputs": [],
   "source": [
    "list1 = [1,2,3,4, [44,55,66, True], False, (34,56,78,89,34), {1,2,3,3,2,1}, {1:34, \"key2\": [55, 67, 78, 89], 4: (45, 22, 61, 34)}, [56, 'data science'], 'Machine Learning']"
   ]
  },
  {
   "cell_type": "code",
   "execution_count": 2,
   "id": "f11e8112-e900-4a50-9fd0-2b84fb1265c0",
   "metadata": {},
   "outputs": [],
   "source": [
    " def flaten_fun(arg):\n",
    "    for subl in arg:\n",
    "        if isinstance(subl, list):\n",
    "            for item in subl:\n",
    "                yield item\n",
    "        elif isinstance(subl,tuple):\n",
    "            for item1 in subl:\n",
    "                yield item1\n",
    "        elif isinstance(subl,set):\n",
    "            for item2 in subl:\n",
    "                yield item2\n",
    "        elif isinstance(subl,dict):\n",
    "            list3=list(subl.items())\n",
    "            for item4 in list3:\n",
    "                if isinstance(item4,tuple):\n",
    "                    for item5 in item4:\n",
    "                         if isinstance(item5, list):\n",
    "                            for item6 in item5 :\n",
    "                                yield item6\n",
    "                         elif isinstance(item5,tuple):\n",
    "                            for item7 in item5:\n",
    "                                yield item7\n",
    "                         elif isinstance(item5,set):\n",
    "                            for item8 in item5:\n",
    "                                yield item8      \n",
    "                         else:\n",
    "                            yield item5\n",
    "        else:\n",
    "            yield subl\n",
    "    "
   ]
  },
  {
   "cell_type": "code",
   "execution_count": 3,
   "id": "49206195-f4ff-43d1-a973-be878e670faa",
   "metadata": {},
   "outputs": [],
   "source": [
    "l3=list(flaten_fun(list1))"
   ]
  },
  {
   "cell_type": "code",
   "execution_count": 4,
   "id": "4df4964d-42c8-4e48-af88-2153dca5af73",
   "metadata": {},
   "outputs": [
    {
     "data": {
      "text/plain": [
       "[1,\n",
       " 2,\n",
       " 3,\n",
       " 4,\n",
       " 44,\n",
       " 55,\n",
       " 66,\n",
       " True,\n",
       " False,\n",
       " 34,\n",
       " 56,\n",
       " 78,\n",
       " 89,\n",
       " 34,\n",
       " 1,\n",
       " 2,\n",
       " 3,\n",
       " 1,\n",
       " 34,\n",
       " 'key2',\n",
       " 55,\n",
       " 67,\n",
       " 78,\n",
       " 89,\n",
       " 4,\n",
       " 45,\n",
       " 22,\n",
       " 61,\n",
       " 34,\n",
       " 56,\n",
       " 'data science',\n",
       " 'Machine Learning']"
      ]
     },
     "execution_count": 4,
     "metadata": {},
     "output_type": "execute_result"
    }
   ],
   "source": [
    "l3"
   ]
  },
  {
   "cell_type": "code",
   "execution_count": 5,
   "id": "bcb1e7c0-9a39-49ba-8361-4ddd5a007262",
   "metadata": {},
   "outputs": [],
   "source": [
    "def prdcut(arg):\n",
    "        l4=[]\n",
    "        res=1\n",
    "        for i in arg:\n",
    "            if type(i)==str:\n",
    "                l4.append(i)\n",
    "            elif type(i)==int:\n",
    "                res=i*res\n",
    "        l4.append(res)\n",
    "        return l4\n",
    "        "
   ]
  },
  {
   "cell_type": "code",
   "execution_count": 6,
   "id": "0cc211f7-4fb9-4736-bd07-cbbd1c9f8614",
   "metadata": {},
   "outputs": [
    {
     "data": {
      "text/plain": [
       "['key2',\n",
       " 'data science',\n",
       " 'Machine Learning',\n",
       " 4134711838987085478833841242112000]"
      ]
     },
     "execution_count": 6,
     "metadata": {},
     "output_type": "execute_result"
    }
   ],
   "source": [
    "prdcut(l3)"
   ]
  },
  {
   "cell_type": "markdown",
   "id": "5eaf9258-57e7-4c87-98b1-f83ee147134d",
   "metadata": {},
   "source": [
    "Q2. Write a python program for encrypting a message sent to you by your friend. The logic of encryption\n",
    "should be such that, for a the output should be z. For b, the output should be y. For c, the output should\n",
    "be x respectively. Also, the whitespace should be replaced with a dollar sign. Keep the punctuation\n",
    "marks unchanged.\n",
    "Input Sentence: I want to become a Data Scientist.\n",
    "Encrypt the above input sentence using the program you just created.\n",
    "Note: Convert the given input sentence into lowercase before encrypting. The final output should be\n",
    "lowercase."
   ]
  },
  {
   "cell_type": "code",
   "execution_count": 1,
   "id": "d7a738b7-37f3-44eb-98e5-a841e775dcfd",
   "metadata": {},
   "outputs": [
    {
     "name": "stdin",
     "output_type": "stream",
     "text": [
      "enter the data uzma sultana \n"
     ]
    },
    {
     "name": "stdout",
     "output_type": "stream",
     "text": [
      "fanz$hfogzmz$\n"
     ]
    }
   ],
   "source": [
    "import string\n",
    "ascii_alph = string.ascii_lowercase\n",
    "\n",
    "my_map = str.maketrans(ascii_alph, ascii_alph[::-1]) \n",
    "\n",
    "str_input = input(\"enter the data\")\n",
    "str_output = str_input.lower().translate(my_map).replace(\" \",\"$\")\n",
    "\n",
    "print(str_output) \n",
    "    \n",
    "    "
   ]
  },
  {
   "cell_type": "code",
   "execution_count": null,
   "id": "2c51b1a9-323f-4421-9176-412e2a955d00",
   "metadata": {},
   "outputs": [],
   "source": []
  }
 ],
 "metadata": {
  "kernelspec": {
   "display_name": "Python 3 (ipykernel)",
   "language": "python",
   "name": "python3"
  },
  "language_info": {
   "codemirror_mode": {
    "name": "ipython",
    "version": 3
   },
   "file_extension": ".py",
   "mimetype": "text/x-python",
   "name": "python",
   "nbconvert_exporter": "python",
   "pygments_lexer": "ipython3",
   "version": "3.10.8"
  }
 },
 "nbformat": 4,
 "nbformat_minor": 5
}
